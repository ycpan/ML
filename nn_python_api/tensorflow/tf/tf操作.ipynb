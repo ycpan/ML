{
 "cells": [
  {
   "cell_type": "code",
   "execution_count": 11,
   "metadata": {},
   "outputs": [],
   "source": [
    "import tensorflow as tf"
   ]
  },
  {
   "cell_type": "code",
   "execution_count": 12,
   "metadata": {},
   "outputs": [
    {
     "name": "stderr",
     "output_type": "stream",
     "text": [
      "ERROR:root:Internal Python error in the inspect module.\n",
      "Below is the traceback from this internal error.\n",
      "\n"
     ]
    },
    {
     "name": "stdout",
     "output_type": "stream",
     "text": [
      "Traceback (most recent call last):\n",
      "  File \"/home/yongcanpan/anaconda3/envs/pytorch/lib/python3.6/site-packages/IPython/core/interactiveshell.py\", line 3319, in run_code\n",
      "    exec(code_obj, self.user_global_ns, self.user_ns)\n",
      "  File \"<ipython-input-12-7e1fa1899874>\", line 3, in <module>\n",
      "    tf.constant([4,5,6])\n",
      "AttributeError: module 'tensorflow' has no attribute 'constant'\n",
      "\n",
      "During handling of the above exception, another exception occurred:\n",
      "\n",
      "Traceback (most recent call last):\n",
      "  File \"/home/yongcanpan/anaconda3/envs/pytorch/lib/python3.6/site-packages/IPython/core/interactiveshell.py\", line 2034, in showtraceback\n",
      "    stb = value._render_traceback_()\n",
      "AttributeError: 'AttributeError' object has no attribute '_render_traceback_'\n",
      "\n",
      "During handling of the above exception, another exception occurred:\n",
      "\n",
      "Traceback (most recent call last):\n",
      "  File \"/home/yongcanpan/anaconda3/envs/pytorch/lib/python3.6/site-packages/IPython/core/ultratb.py\", line 1101, in get_records\n",
      "    return _fixed_getinnerframes(etb, number_of_lines_of_context, tb_offset)\n",
      "  File \"/home/yongcanpan/anaconda3/envs/pytorch/lib/python3.6/site-packages/IPython/core/ultratb.py\", line 319, in wrapped\n",
      "    return f(*args, **kwargs)\n",
      "  File \"/home/yongcanpan/anaconda3/envs/pytorch/lib/python3.6/site-packages/IPython/core/ultratb.py\", line 353, in _fixed_getinnerframes\n",
      "    records = fix_frame_records_filenames(inspect.getinnerframes(etb, context))\n",
      "  File \"/home/yongcanpan/anaconda3/envs/pytorch/lib/python3.6/inspect.py\", line 1490, in getinnerframes\n",
      "    frameinfo = (tb.tb_frame,) + getframeinfo(tb, context)\n",
      "  File \"/home/yongcanpan/anaconda3/envs/pytorch/lib/python3.6/inspect.py\", line 1448, in getframeinfo\n",
      "    filename = getsourcefile(frame) or getfile(frame)\n",
      "  File \"/home/yongcanpan/anaconda3/envs/pytorch/lib/python3.6/inspect.py\", line 696, in getsourcefile\n",
      "    if getattr(getmodule(object, filename), '__loader__', None) is not None:\n",
      "  File \"/home/yongcanpan/anaconda3/envs/pytorch/lib/python3.6/inspect.py\", line 733, in getmodule\n",
      "    if ismodule(module) and hasattr(module, '__file__'):\n",
      "  File \"/home/yongcanpan/anaconda3/envs/pytorch/lib/python3.6/site-packages/tensorflow/__init__.py\", line 50, in __getattr__\n",
      "    module = self._load()\n",
      "  File \"/home/yongcanpan/anaconda3/envs/pytorch/lib/python3.6/site-packages/tensorflow/__init__.py\", line 44, in _load\n",
      "    module = _importlib.import_module(self.__name__)\n",
      "  File \"/home/yongcanpan/anaconda3/envs/pytorch/lib/python3.6/importlib/__init__.py\", line 126, in import_module\n",
      "    return _bootstrap._gcd_import(name[level:], package, level)\n",
      "  File \"<frozen importlib._bootstrap>\", line 994, in _gcd_import\n",
      "  File \"<frozen importlib._bootstrap>\", line 971, in _find_and_load\n",
      "  File \"<frozen importlib._bootstrap>\", line 941, in _find_and_load_unlocked\n",
      "  File \"<frozen importlib._bootstrap>\", line 219, in _call_with_frames_removed\n",
      "  File \"<frozen importlib._bootstrap>\", line 994, in _gcd_import\n",
      "  File \"<frozen importlib._bootstrap>\", line 971, in _find_and_load\n",
      "  File \"<frozen importlib._bootstrap>\", line 955, in _find_and_load_unlocked\n",
      "  File \"<frozen importlib._bootstrap>\", line 665, in _load_unlocked\n",
      "  File \"<frozen importlib._bootstrap_external>\", line 678, in exec_module\n",
      "  File \"<frozen importlib._bootstrap>\", line 219, in _call_with_frames_removed\n",
      "  File \"/home/yongcanpan/anaconda3/envs/pytorch/lib/python3.6/site-packages/tensorflow_core/__init__.py\", line 45, in <module>\n",
      "    from . _api.v2 import compat\n",
      "  File \"/home/yongcanpan/anaconda3/envs/pytorch/lib/python3.6/site-packages/tensorflow_core/_api/v2/compat/__init__.py\", line 23, in <module>\n",
      "    from . import v1\n",
      "  File \"/home/yongcanpan/anaconda3/envs/pytorch/lib/python3.6/site-packages/tensorflow_core/_api/v2/compat/v1/__init__.py\", line 40, in <module>\n",
      "    from . import experimental\n",
      "  File \"/home/yongcanpan/anaconda3/envs/pytorch/lib/python3.6/site-packages/tensorflow_core/_api/v2/compat/v1/experimental/__init__.py\", line 11, in <module>\n",
      "    from tensorflow.python.ops.control_flow_v2_toggles import output_all_intermediates\n",
      "  File \"/home/yongcanpan/anaconda3/envs/pytorch/lib/python3.6/site-packages/tensorflow_core/python/ops/control_flow_v2_toggles.py\", line 24, in <module>\n",
      "    from tensorflow.python.ops import control_flow_util_v2\n",
      "  File \"/home/yongcanpan/anaconda3/envs/pytorch/lib/python3.6/site-packages/tensorflow_core/python/ops/control_flow_util_v2.py\", line 28, in <module>\n",
      "    from tensorflow.python.keras.engine import base_layer_utils\n",
      "  File \"/home/yongcanpan/anaconda3/envs/pytorch/lib/python3.6/site-packages/tensorflow_core/python/keras/__init__.py\", line 27, in <module>\n",
      "    from tensorflow.python.keras import applications\n",
      "  File \"/home/yongcanpan/anaconda3/envs/pytorch/lib/python3.6/site-packages/tensorflow_core/python/keras/applications/__init__.py\", line 25, in <module>\n",
      "    from tensorflow.python.keras import engine\n",
      "  File \"/home/yongcanpan/anaconda3/envs/pytorch/lib/python3.6/site-packages/tensorflow_core/python/keras/engine/__init__.py\", line 23, in <module>\n",
      "    from tensorflow.python.keras.engine.base_layer import Layer\n",
      "  File \"/home/yongcanpan/anaconda3/envs/pytorch/lib/python3.6/site-packages/tensorflow_core/python/keras/engine/base_layer.py\", line 56, in <module>\n",
      "    from tensorflow.python.keras.saving.saved_model import layer_serialization\n",
      "  File \"/home/yongcanpan/anaconda3/envs/pytorch/lib/python3.6/site-packages/tensorflow_core/python/keras/saving/saved_model/layer_serialization.py\", line 23, in <module>\n",
      "    from tensorflow.python.keras.saving.saved_model import save_impl\n",
      "  File \"/home/yongcanpan/anaconda3/envs/pytorch/lib/python3.6/site-packages/tensorflow_core/python/keras/saving/saved_model/save_impl.py\", line 34, in <module>\n",
      "    from tensorflow.python.keras.saving import saving_utils\n",
      "  File \"/home/yongcanpan/anaconda3/envs/pytorch/lib/python3.6/site-packages/tensorflow_core/python/keras/saving/__init__.py\", line 31, in <module>\n",
      "    from tensorflow.python.keras.saving.save import load_model\n",
      "  File \"/home/yongcanpan/anaconda3/envs/pytorch/lib/python3.6/site-packages/tensorflow_core/python/keras/saving/save.py\", line 27, in <module>\n",
      "    from tensorflow.python.keras.saving.saved_model import load as saved_model_load\n",
      "  File \"/home/yongcanpan/anaconda3/envs/pytorch/lib/python3.6/site-packages/tensorflow_core/python/keras/saving/saved_model/load.py\", line 28, in <module>\n",
      "    from tensorflow.python.keras.saving.saved_model import utils\n",
      "  File \"/home/yongcanpan/anaconda3/envs/pytorch/lib/python3.6/site-packages/tensorflow_core/python/keras/saving/saved_model/utils.py\", line 23, in <module>\n",
      "    from tensorflow.python.keras.utils import tf_utils\n",
      "  File \"/home/yongcanpan/anaconda3/envs/pytorch/lib/python3.6/site-packages/tensorflow_core/python/keras/utils/__init__.py\", line 38, in <module>\n",
      "    from tensorflow.python.keras.utils.multi_gpu_utils import multi_gpu_model\n",
      "  File \"/home/yongcanpan/anaconda3/envs/pytorch/lib/python3.6/site-packages/tensorflow_core/python/keras/utils/multi_gpu_utils.py\", line 22, in <module>\n",
      "    from tensorflow.python.keras.engine.training import Model\n",
      "  File \"/home/yongcanpan/anaconda3/envs/pytorch/lib/python3.6/site-packages/tensorflow_core/python/keras/engine/training.py\", line 42, in <module>\n",
      "    from tensorflow.python.keras import metrics as metrics_module\n",
      "  File \"/home/yongcanpan/anaconda3/envs/pytorch/lib/python3.6/site-packages/tensorflow_core/python/keras/metrics.py\", line 34, in <module>\n",
      "    from tensorflow.python.keras.engine.base_layer import Layer\n",
      "ImportError: cannot import name 'Layer'\n"
     ]
    },
    {
     "ename": "AttributeError",
     "evalue": "module 'tensorflow' has no attribute 'constant'",
     "output_type": "error",
     "traceback": [
      "\u001b[0;31m---------------------------------------------------------------------------\u001b[0m"
     ]
    }
   ],
   "source": [
    "#a=tf.constant([1,2,3])\n",
    "#b=tf.constant([4,5,6])\n",
    "tf.constant([4,5,6])"
   ]
  },
  {
   "cell_type": "code",
   "execution_count": 6,
   "metadata": {},
   "outputs": [
    {
     "name": "stderr",
     "output_type": "stream",
     "text": [
      "ERROR:root:Internal Python error in the inspect module.\n",
      "Below is the traceback from this internal error.\n",
      "\n"
     ]
    },
    {
     "name": "stdout",
     "output_type": "stream",
     "text": [
      "Traceback (most recent call last):\n",
      "  File \"/home/yongcanpan/anaconda3/envs/pytorch/lib/python3.6/site-packages/IPython/core/interactiveshell.py\", line 3319, in run_code\n",
      "    exec(code_obj, self.user_global_ns, self.user_ns)\n",
      "  File \"<ipython-input-6-ace4c05da8f1>\", line 3, in <module>\n",
      "    print(a*b)\n",
      "NameError: name 'a' is not defined\n",
      "\n",
      "During handling of the above exception, another exception occurred:\n",
      "\n",
      "Traceback (most recent call last):\n",
      "  File \"/home/yongcanpan/anaconda3/envs/pytorch/lib/python3.6/site-packages/IPython/core/interactiveshell.py\", line 2034, in showtraceback\n",
      "    stb = value._render_traceback_()\n",
      "AttributeError: 'NameError' object has no attribute '_render_traceback_'\n",
      "\n",
      "During handling of the above exception, another exception occurred:\n",
      "\n",
      "Traceback (most recent call last):\n",
      "  File \"/home/yongcanpan/anaconda3/envs/pytorch/lib/python3.6/site-packages/IPython/core/ultratb.py\", line 1101, in get_records\n",
      "    return _fixed_getinnerframes(etb, number_of_lines_of_context, tb_offset)\n",
      "  File \"/home/yongcanpan/anaconda3/envs/pytorch/lib/python3.6/site-packages/IPython/core/ultratb.py\", line 319, in wrapped\n",
      "    return f(*args, **kwargs)\n",
      "  File \"/home/yongcanpan/anaconda3/envs/pytorch/lib/python3.6/site-packages/IPython/core/ultratb.py\", line 353, in _fixed_getinnerframes\n",
      "    records = fix_frame_records_filenames(inspect.getinnerframes(etb, context))\n",
      "  File \"/home/yongcanpan/anaconda3/envs/pytorch/lib/python3.6/inspect.py\", line 1490, in getinnerframes\n",
      "    frameinfo = (tb.tb_frame,) + getframeinfo(tb, context)\n",
      "  File \"/home/yongcanpan/anaconda3/envs/pytorch/lib/python3.6/inspect.py\", line 1448, in getframeinfo\n",
      "    filename = getsourcefile(frame) or getfile(frame)\n",
      "  File \"/home/yongcanpan/anaconda3/envs/pytorch/lib/python3.6/inspect.py\", line 696, in getsourcefile\n",
      "    if getattr(getmodule(object, filename), '__loader__', None) is not None:\n",
      "  File \"/home/yongcanpan/anaconda3/envs/pytorch/lib/python3.6/inspect.py\", line 733, in getmodule\n",
      "    if ismodule(module) and hasattr(module, '__file__'):\n",
      "  File \"/home/yongcanpan/anaconda3/envs/pytorch/lib/python3.6/site-packages/tensorflow/__init__.py\", line 50, in __getattr__\n",
      "    module = self._load()\n",
      "  File \"/home/yongcanpan/anaconda3/envs/pytorch/lib/python3.6/site-packages/tensorflow/__init__.py\", line 44, in _load\n",
      "    module = _importlib.import_module(self.__name__)\n",
      "  File \"/home/yongcanpan/anaconda3/envs/pytorch/lib/python3.6/importlib/__init__.py\", line 126, in import_module\n",
      "    return _bootstrap._gcd_import(name[level:], package, level)\n",
      "  File \"<frozen importlib._bootstrap>\", line 994, in _gcd_import\n",
      "  File \"<frozen importlib._bootstrap>\", line 971, in _find_and_load\n",
      "  File \"<frozen importlib._bootstrap>\", line 941, in _find_and_load_unlocked\n",
      "  File \"<frozen importlib._bootstrap>\", line 219, in _call_with_frames_removed\n",
      "  File \"<frozen importlib._bootstrap>\", line 994, in _gcd_import\n",
      "  File \"<frozen importlib._bootstrap>\", line 971, in _find_and_load\n",
      "  File \"<frozen importlib._bootstrap>\", line 955, in _find_and_load_unlocked\n",
      "  File \"<frozen importlib._bootstrap>\", line 665, in _load_unlocked\n",
      "  File \"<frozen importlib._bootstrap_external>\", line 678, in exec_module\n",
      "  File \"<frozen importlib._bootstrap>\", line 219, in _call_with_frames_removed\n",
      "  File \"/home/yongcanpan/anaconda3/envs/pytorch/lib/python3.6/site-packages/tensorflow_core/__init__.py\", line 45, in <module>\n",
      "    from . _api.v2 import compat\n",
      "  File \"/home/yongcanpan/anaconda3/envs/pytorch/lib/python3.6/site-packages/tensorflow_core/_api/v2/compat/__init__.py\", line 23, in <module>\n",
      "    from . import v1\n",
      "  File \"/home/yongcanpan/anaconda3/envs/pytorch/lib/python3.6/site-packages/tensorflow_core/_api/v2/compat/v1/__init__.py\", line 40, in <module>\n",
      "    from . import experimental\n",
      "  File \"/home/yongcanpan/anaconda3/envs/pytorch/lib/python3.6/site-packages/tensorflow_core/_api/v2/compat/v1/experimental/__init__.py\", line 11, in <module>\n",
      "    from tensorflow.python.ops.control_flow_v2_toggles import output_all_intermediates\n",
      "  File \"/home/yongcanpan/anaconda3/envs/pytorch/lib/python3.6/site-packages/tensorflow_core/python/ops/control_flow_v2_toggles.py\", line 24, in <module>\n",
      "    from tensorflow.python.ops import control_flow_util_v2\n",
      "  File \"/home/yongcanpan/anaconda3/envs/pytorch/lib/python3.6/site-packages/tensorflow_core/python/ops/control_flow_util_v2.py\", line 28, in <module>\n",
      "    from tensorflow.python.keras.engine import base_layer_utils\n",
      "  File \"/home/yongcanpan/anaconda3/envs/pytorch/lib/python3.6/site-packages/tensorflow_core/python/keras/__init__.py\", line 27, in <module>\n",
      "    from tensorflow.python.keras import applications\n",
      "  File \"/home/yongcanpan/anaconda3/envs/pytorch/lib/python3.6/site-packages/tensorflow_core/python/keras/applications/__init__.py\", line 25, in <module>\n",
      "    from tensorflow.python.keras import engine\n",
      "  File \"/home/yongcanpan/anaconda3/envs/pytorch/lib/python3.6/site-packages/tensorflow_core/python/keras/engine/__init__.py\", line 23, in <module>\n",
      "    from tensorflow.python.keras.engine.base_layer import Layer\n",
      "  File \"/home/yongcanpan/anaconda3/envs/pytorch/lib/python3.6/site-packages/tensorflow_core/python/keras/engine/base_layer.py\", line 56, in <module>\n",
      "    from tensorflow.python.keras.saving.saved_model import layer_serialization\n",
      "  File \"/home/yongcanpan/anaconda3/envs/pytorch/lib/python3.6/site-packages/tensorflow_core/python/keras/saving/saved_model/layer_serialization.py\", line 23, in <module>\n",
      "    from tensorflow.python.keras.saving.saved_model import save_impl\n",
      "  File \"/home/yongcanpan/anaconda3/envs/pytorch/lib/python3.6/site-packages/tensorflow_core/python/keras/saving/saved_model/save_impl.py\", line 34, in <module>\n",
      "    from tensorflow.python.keras.saving import saving_utils\n",
      "  File \"/home/yongcanpan/anaconda3/envs/pytorch/lib/python3.6/site-packages/tensorflow_core/python/keras/saving/__init__.py\", line 31, in <module>\n",
      "    from tensorflow.python.keras.saving.save import load_model\n",
      "  File \"/home/yongcanpan/anaconda3/envs/pytorch/lib/python3.6/site-packages/tensorflow_core/python/keras/saving/save.py\", line 27, in <module>\n",
      "    from tensorflow.python.keras.saving.saved_model import load as saved_model_load\n",
      "  File \"/home/yongcanpan/anaconda3/envs/pytorch/lib/python3.6/site-packages/tensorflow_core/python/keras/saving/saved_model/load.py\", line 28, in <module>\n",
      "    from tensorflow.python.keras.saving.saved_model import utils\n",
      "  File \"/home/yongcanpan/anaconda3/envs/pytorch/lib/python3.6/site-packages/tensorflow_core/python/keras/saving/saved_model/utils.py\", line 23, in <module>\n",
      "    from tensorflow.python.keras.utils import tf_utils\n",
      "  File \"/home/yongcanpan/anaconda3/envs/pytorch/lib/python3.6/site-packages/tensorflow_core/python/keras/utils/__init__.py\", line 38, in <module>\n",
      "    from tensorflow.python.keras.utils.multi_gpu_utils import multi_gpu_model\n",
      "  File \"/home/yongcanpan/anaconda3/envs/pytorch/lib/python3.6/site-packages/tensorflow_core/python/keras/utils/multi_gpu_utils.py\", line 22, in <module>\n",
      "    from tensorflow.python.keras.engine.training import Model\n",
      "  File \"/home/yongcanpan/anaconda3/envs/pytorch/lib/python3.6/site-packages/tensorflow_core/python/keras/engine/training.py\", line 42, in <module>\n",
      "    from tensorflow.python.keras import metrics as metrics_module\n",
      "  File \"/home/yongcanpan/anaconda3/envs/pytorch/lib/python3.6/site-packages/tensorflow_core/python/keras/metrics.py\", line 34, in <module>\n",
      "    from tensorflow.python.keras.engine.base_layer import Layer\n",
      "ImportError: cannot import name 'Layer'\n"
     ]
    },
    {
     "ename": "NameError",
     "evalue": "name 'a' is not defined",
     "output_type": "error",
     "traceback": [
      "\u001b[0;31m---------------------------------------------------------------------------\u001b[0m"
     ]
    }
   ],
   "source": [
    "#tensorflow中，乘法运算。包含点乘*/tf.multiply，\n",
    "#矩阵乘tf.matmul\n",
    "print(a*b)\n",
    "print(tf.multiply(a,b))\n"
   ]
  },
  {
   "cell_type": "code",
   "execution_count": 40,
   "metadata": {},
   "outputs": [
    {
     "name": "stdout",
     "output_type": "stream",
     "text": [
      "tf.Tensor([[1 2 3]], shape=(1, 3), dtype=int32)\n",
      "tf.Tensor(\n",
      "[[4]\n",
      " [5]\n",
      " [6]], shape=(3, 1), dtype=int32)\n",
      "tf.Tensor([[32]], shape=(1, 1), dtype=int32)\n"
     ]
    }
   ],
   "source": [
    "#矩阵乘法运算\n",
    "c = tf.expand_dims(a,0)\n",
    "print(c)\n",
    "d=tf.expand_dims(b,1)\n",
    "print(d)\n",
    "print(tf.matmul(c,d))"
   ]
  },
  {
   "cell_type": "code",
   "execution_count": null,
   "metadata": {},
   "outputs": [],
   "source": []
  },
  {
   "cell_type": "code",
   "execution_count": 88,
   "metadata": {},
   "outputs": [
    {
     "name": "stdout",
     "output_type": "stream",
     "text": [
      "(1, 2, 2)\n"
     ]
    }
   ],
   "source": [
    "#tf.transpose(input,transpose_a,transpose_b),transpose_b==True，默认将最后两个维度转秩\n",
    "a=tf.constant([[[1,2,3],[4,5,6]]])\n",
    "b=tf.constant([[[1,1,1],[2,2,2]]])\n",
    "c=tf.matmul(a,b,transpose_b=True)\n",
    "print(c.shape)"
   ]
  },
  {
   "cell_type": "code",
   "execution_count": 46,
   "metadata": {},
   "outputs": [
    {
     "name": "stdout",
     "output_type": "stream",
     "text": [
      "tf.Tensor(\n",
      "[[0. 0. 1. 0.]\n",
      " [0. 0. 0. 1.]\n",
      " [1. 0. 0. 0.]], shape=(3, 4), dtype=float32)\n"
     ]
    }
   ],
   "source": [
    "#tf.one_hot操作，a表示原转换元素的位置，即indices（应用比如转换word——id）；4表示深度，即转换后的维度depth\n",
    "a=[2,3,0]\n",
    "print(tf.one_hot(a,4))"
   ]
  },
  {
   "cell_type": "code",
   "execution_count": 58,
   "metadata": {},
   "outputs": [
    {
     "data": {
      "text/plain": [
       "<tf.Tensor: id=150, shape=(2, 1), dtype=int32, numpy=\n",
       "array([[2],\n",
       "       [5]], dtype=int32)>"
      ]
     },
     "execution_count": 58,
     "metadata": {},
     "output_type": "execute_result"
    }
   ],
   "source": [
    "#tf.slice(input,begin,size)：从input中抽取begin维度之后的元素，新抽取的元素维度为size\n",
    "#例子一，x[0][1]=2开始，打印shape=[2,1]的元素。\n",
    "x=[[1,2,3],[4,5,6]]  \n",
    "begin = [0,1] \n",
    "size = [2,1] \n",
    "tf.slice(x,begin,size)"
   ]
  },
  {
   "cell_type": "code",
   "execution_count": 60,
   "metadata": {},
   "outputs": [
    {
     "data": {
      "text/plain": [
       "<tf.Tensor: id=158, shape=(2, 2), dtype=int32, numpy=\n",
       "array([[2, 3],\n",
       "       [5, 6]], dtype=int32)>"
      ]
     },
     "execution_count": 60,
     "metadata": {},
     "output_type": "execute_result"
    }
   ],
   "source": [
    "#例子二，x[0][1]=2开始，打印shape=[2,2]的元素。\n",
    "x=[[1,2,3],[4,5,6]]  \n",
    "begin = [0,1] \n",
    "size = [2,2] \n",
    "tf.slice(x,begin,size)"
   ]
  },
  {
   "cell_type": "code",
   "execution_count": 62,
   "metadata": {},
   "outputs": [
    {
     "data": {
      "text/plain": [
       "<tf.Tensor: id=166, shape=(2, 2), dtype=int32, numpy=\n",
       "array([[2, 3],\n",
       "       [5, 6]], dtype=int32)>"
      ]
     },
     "execution_count": 62,
     "metadata": {},
     "output_type": "execute_result"
    }
   ],
   "source": [
    "#例子三，x[0][1]=2开始，打印shape=[2,-1]的元素。shape=[2,-1]表示2行，尽可能多的列。\n",
    "x=[[1,2,3],[4,5,6]]  \n",
    "begin = [0,1] \n",
    "size = [2,2] \n",
    "tf.slice(x,begin,size)"
   ]
  },
  {
   "cell_type": "code",
   "execution_count": 64,
   "metadata": {},
   "outputs": [
    {
     "data": {
      "text/plain": [
       "<tf.Tensor: id=174, shape=(1, 2), dtype=int32, numpy=array([[1, 2]], dtype=int32)>"
      ]
     },
     "execution_count": 64,
     "metadata": {},
     "output_type": "execute_result"
    }
   ],
   "source": [
    "#例子四，x[0][0]=1开始，打印shape=[2,1]的元素。\n",
    "x=[[1,2,3],[4,5,6]]  \n",
    "begin = [0,0] \n",
    "size = [1,2] \n",
    "tf.slice(x,begin,size)"
   ]
  },
  {
   "cell_type": "code",
   "execution_count": 69,
   "metadata": {},
   "outputs": [
    {
     "name": "stdout",
     "output_type": "stream",
     "text": [
      "<class 'tensorflow.python.framework.tensor_shape.TensorShape'>\n",
      "[2, 2]\n"
     ]
    }
   ],
   "source": [
    "# tf.shape 的相关操作\n",
    "x=tf.constant([[1,2],[3,4]])\n",
    "b=x.shape\n",
    "print(type(b))\n",
    "# shape.as_list对shape变成list。\n",
    "c=b.as_list()\n",
    "print(c)"
   ]
  },
  {
   "cell_type": "code",
   "execution_count": 72,
   "metadata": {},
   "outputs": [
    {
     "data": {
      "text/plain": [
       "<tf.Tensor: id=183, shape=(2,), dtype=int32, numpy=array([1, 2], dtype=int32)>"
      ]
     },
     "execution_count": 72,
     "metadata": {},
     "output_type": "execute_result"
    }
   ],
   "source": [
    "#tf.cast Tensor类型转换\n",
    "x = tf.constant([1.8, 2.2], dtype=tf.float32)\n",
    "tf.dtypes.cast(x, tf.int32)  # [1, 2], dtype=tf.int32"
   ]
  },
  {
   "cell_type": "code",
   "execution_count": 89,
   "metadata": {},
   "outputs": [
    {
     "name": "stdout",
     "output_type": "stream",
     "text": [
      "(1, 2, 3)\n",
      "(3, 2, 1)\n",
      "(1, 3, 2)\n"
     ]
    }
   ],
   "source": [
    "# tf.transpose默认维度完全颠倒\n",
    "a= tf.constant([[[1,2,3],[4,5,6]]])\n",
    "print(a.shape)\n",
    "#默认输出，维度完全颠倒\n",
    "b=tf.transpose(a)\n",
    "print(b.shape)\n",
    "#将第二维和第三维转秩\n",
    "c=tf.transpose(a,[0,2,1])\n",
    "print(c.shape)"
   ]
  },
  {
   "cell_type": "code",
   "execution_count": 94,
   "metadata": {},
   "outputs": [
    {
     "name": "stdout",
     "output_type": "stream",
     "text": [
      "tf.Tensor([2 0 1], shape=(3,), dtype=int32)\n"
     ]
    }
   ],
   "source": [
    "# tf.gather(params,indices)根据索引从参数轴上收集切片,params要选取的值，indices要选取的位置。\n",
    "#在-1轴上选取2，0，1的为位置\n",
    "a=tf.gather([0,1,2,3],[2,0,1],axis=-1)\n",
    "print(a)"
   ]
  },
  {
   "cell_type": "code",
   "execution_count": 98,
   "metadata": {},
   "outputs": [
    {
     "data": {
      "text/plain": [
       "<tf.Tensor: id=248, shape=(2, 1, 3), dtype=int32, numpy=\n",
       "array([[[1, 2, 3]],\n",
       "\n",
       "       [[4, 5, 6]]], dtype=int32)>"
      ]
     },
     "execution_count": 98,
     "metadata": {},
     "output_type": "execute_result"
    }
   ],
   "source": [
    "#tf.reshape 改变维度，把第二维度改为第三个维度\n",
    "tf.reshape([[1,2,3],[4,5,6]],[2,1,3])"
   ]
  },
  {
   "cell_type": "code",
   "execution_count": 1,
   "metadata": {},
   "outputs": [
    {
     "ename": "NameError",
     "evalue": "name 'tf' is not defined",
     "output_type": "error",
     "traceback": [
      "\u001b[0;31m---------------------------------------------------------------------------\u001b[0m",
      "\u001b[0;31mNameError\u001b[0m                                 Traceback (most recent call last)",
      "\u001b[0;32m<ipython-input-1-7b07276e7a52>\u001b[0m in \u001b[0;36m<module>\u001b[0;34m\u001b[0m\n\u001b[1;32m      1\u001b[0m \u001b[0;31m# tf.control_dependencies\u001b[0m\u001b[0;34m\u001b[0m\u001b[0;34m\u001b[0m\u001b[0;34m\u001b[0m\u001b[0m\n\u001b[0;32m----> 2\u001b[0;31m \u001b[0mhelp\u001b[0m\u001b[0;34m(\u001b[0m\u001b[0mtf\u001b[0m\u001b[0;34m.\u001b[0m\u001b[0mcontrol_dependencies\u001b[0m\u001b[0;34m)\u001b[0m\u001b[0;34m\u001b[0m\u001b[0;34m\u001b[0m\u001b[0m\n\u001b[0m",
      "\u001b[0;31mNameError\u001b[0m: name 'tf' is not defined"
     ]
    }
   ],
   "source": [
    "# tf.control_dependencies\n",
    "help(tf.control_dependencies)"
   ]
  },
  {
   "cell_type": "code",
   "execution_count": 5,
   "metadata": {},
   "outputs": [
    {
     "name": "stdout",
     "output_type": "stream",
     "text": [
      "tf.Tensor([1 2 3 4], shape=(4,), dtype=int32)\n"
     ]
    }
   ],
   "source": [
    "#tf.range\n",
    "#range()函数用于创建数字序列变量，有以下两种形式：\n",
    "\n",
    "#range(limit, delta=1, dtype=None, name='range')\n",
    "#range(start, limit, delta=1, dtype=None, name='range')\n",
    "#该数字序列开始于 start 并且将以 delta 为增量扩展到不包括 limit 时的最大值结束，类似python的range函数。\n",
    "\n",
    "#dtype 为类型转换，即如果输入的数据为整数，就不要写dtype=tf.int32,否则会抛出异常。\n",
    "print(tf.range(1,5))"
   ]
  }
 ],
 "metadata": {
  "kernelspec": {
   "display_name": "Python 3",
   "language": "python",
   "name": "python3"
  },
  "language_info": {
   "codemirror_mode": {
    "name": "ipython",
    "version": 3
   },
   "file_extension": ".py",
   "mimetype": "text/x-python",
   "name": "python",
   "nbconvert_exporter": "python",
   "pygments_lexer": "ipython3",
   "version": "3.6.9"
  }
 },
 "nbformat": 4,
 "nbformat_minor": 2
}
